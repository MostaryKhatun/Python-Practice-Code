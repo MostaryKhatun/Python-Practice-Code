{
  "cells": [
    {
      "cell_type": "markdown",
      "metadata": {
        "id": "view-in-github",
        "colab_type": "text"
      },
      "source": [
        "<a href=\"https://colab.research.google.com/github/MostaryKhatun/Python-Practice-Code/blob/main/MostaryMathTest.ipynb\" target=\"_parent\"><img src=\"https://colab.research.google.com/assets/colab-badge.svg\" alt=\"Open In Colab\"/></a>"
      ]
    },
    {
      "cell_type": "code",
      "execution_count": 17,
      "metadata": {
        "colab": {
          "base_uri": "https://localhost:8080/"
        },
        "id": "beUHjZL6IAUo",
        "outputId": "30c9f121-bedc-4142-88a9-62619bb26fc0"
      },
      "outputs": [
        {
          "output_type": "stream",
          "name": "stdout",
          "text": [
            "--2024-11-02 18:24:27--  https://raw.githubusercontent.com/MostaryKhatun/Python-Practice-Code/refs/heads/main/MostaryMathTest.py\n",
            "Resolving raw.githubusercontent.com (raw.githubusercontent.com)... 185.199.108.133, 185.199.109.133, 185.199.110.133, ...\n",
            "Connecting to raw.githubusercontent.com (raw.githubusercontent.com)|185.199.108.133|:443... connected.\n",
            "HTTP request sent, awaiting response... 200 OK\n",
            "Length: 256 [text/plain]\n",
            "Saving to: ‘MostaryMathTest.py.1’\n",
            "\n",
            "\rMostaryMathTest.py.   0%[                    ]       0  --.-KB/s               \rMostaryMathTest.py. 100%[===================>]     256  --.-KB/s    in 0s      \n",
            "\n",
            "2024-11-02 18:24:27 (14.8 MB/s) - ‘MostaryMathTest.py.1’ saved [256/256]\n",
            "\n",
            "Enter Digit:1000\n",
            "3.1415926535897932384626433832795028841971693993751058209749445923078164062862089986280348253421170679821480865132823066470938446095505822317253594081284811174502841027019385211055596446229489549303819644288109756659334461284756482337867831652712019091456485669234603486104543266482133936072602491412737245870066063155881748815209209628292540917153643678925903600113305305488204665213841469519415116094330572703657595919530921861173819326117931051185480744623799627495673518857527248912279381830119491298336733624406566430860213949463952247371907021798609437027705392171762931767523846748184676694051320005681271452635608277857713427577896091736371787214684409012249534301465495853710507922796892589235420199561121290219608640344181598136297747713099605187072113499999983729780499510597317328160963185950244594553469083026425223082533446850352619311881710100031378387528865875332083814206171776691473035982534904287554687311595628638823537875937519577818577805321712268066130019278766111959092164201989\n"
          ]
        }
      ],
      "source": [
        "import sys\n",
        "\n",
        "!wget https://raw.githubusercontent.com/MostaryKhatun/Python-Practice-Code/refs/heads/main/MostaryMathTest.py\n",
        "\n",
        "sys.path.append('/content') # Add the current directory to the path\n",
        "\n",
        "from MostaryMathTest import printBigpi\n",
        "\n",
        "n=int(input(\"Enter Digit:\"))\n",
        "print(printBigpi(n))\n"
      ]
    }
  ],
  "metadata": {
    "colab": {
      "provenance": [],
      "authorship_tag": "ABX9TyNkGCL2NbGcLMrt6cfhZTcw",
      "include_colab_link": true
    },
    "kernelspec": {
      "display_name": "Python 3",
      "name": "python3"
    },
    "language_info": {
      "name": "python"
    }
  },
  "nbformat": 4,
  "nbformat_minor": 0
}
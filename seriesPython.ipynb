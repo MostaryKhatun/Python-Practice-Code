{
  "nbformat": 4,
  "nbformat_minor": 0,
  "metadata": {
    "colab": {
      "provenance": [],
      "authorship_tag": "ABX9TyNEPhC3V52O/lZgTjqnEgAZ",
      "include_colab_link": true
    },
    "kernelspec": {
      "name": "python3",
      "display_name": "Python 3"
    },
    "language_info": {
      "name": "python"
    }
  },
  "cells": [
    {
      "cell_type": "markdown",
      "metadata": {
        "id": "view-in-github",
        "colab_type": "text"
      },
      "source": [
        "<a href=\"https://colab.research.google.com/github/MostaryKhatun/Python-Practice-Code/blob/main/seriesPython.ipynb\" target=\"_parent\"><img src=\"https://colab.research.google.com/assets/colab-badge.svg\" alt=\"Open In Colab\"/></a>"
      ]
    },
    {
      "cell_type": "code",
      "execution_count": 2,
      "metadata": {
        "colab": {
          "base_uri": "https://localhost:8080/"
        },
        "id": "Ig4fadRGIvQz",
        "outputId": "aac07636-b619-4cee-f030-dd9ed58641c5"
      },
      "outputs": [
        {
          "output_type": "stream",
          "name": "stdout",
          "text": [
            "Collecting calculator\n",
            "  Downloading Calculator-1.1.0.zip (983 bytes)\n",
            "  Preparing metadata (setup.py) ... \u001b[?25l\u001b[?25hdone\n",
            "Building wheels for collected packages: calculator\n",
            "  Building wheel for calculator (setup.py) ... \u001b[?25l\u001b[?25hdone\n",
            "  Created wheel for calculator: filename=Calculator-1.1.0-py3-none-any.whl size=1400 sha256=41aa143cea124b3c7e234848bffa41d012954e7cc39a525aaeac6755cefa5138\n",
            "  Stored in directory: /root/.cache/pip/wheels/28/0c/dc/056a8d1f5ac6837b4f001c7351d028beb8bd6182d3e37eb768\n",
            "Successfully built calculator\n",
            "Installing collected packages: calculator\n",
            "Successfully installed calculator-1.1.0\n"
          ]
        }
      ],
      "source": [
        "!pip install calculator"
      ]
    },
    {
      "cell_type": "code",
      "source": [
        "# Define the function in a cell\n",
        "def sum_of_series(n):\n",
        "    \"\"\"Calculate the sum of the series 1 + 2 + 3 + ... + n.\"\"\"\n",
        "    return n * (n + 1) // 2\n"
      ],
      "metadata": {
        "id": "hKhh_0WwJKMF"
      },
      "execution_count": 3,
      "outputs": []
    },
    {
      "cell_type": "code",
      "source": [
        "# Call the function\n",
        "n = 20\n",
        "result = sum_of_series(n)\n",
        "print(f\"The sum of the series 1 + 2 + ... + {n} is: {result}\")\n"
      ],
      "metadata": {
        "colab": {
          "base_uri": "https://localhost:8080/"
        },
        "id": "ymYonk32JzEV",
        "outputId": "2ab6e014-f4e4-47b4-c4e1-5ffd159e1135"
      },
      "execution_count": 5,
      "outputs": [
        {
          "output_type": "stream",
          "name": "stdout",
          "text": [
            "The sum of the series 1 + 2 + ... + 20 is: 210\n"
          ]
        }
      ]
    }
  ]
}